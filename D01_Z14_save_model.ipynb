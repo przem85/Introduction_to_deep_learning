{
 "cells": [
  {
   "cell_type": "code",
   "execution_count": 1,
   "metadata": {},
   "outputs": [
    {
     "name": "stdout",
     "output_type": "stream",
     "text": [
      "2.0.0-rc1\n",
      "2.2.4-tf\n"
     ]
    }
   ],
   "source": [
    "import tensorflow as tf\n",
    "from tensorflow import keras\n",
    "print(tf.__version__)\n",
    "\n",
    "print(keras.__version__)"
   ]
  },
  {
   "cell_type": "code",
   "execution_count": 2,
   "metadata": {},
   "outputs": [],
   "source": [
    "import numpy as np\n",
    "import pandas as pd\n",
    "import matplotlib.pyplot as plt\n",
    "import os"
   ]
  },
  {
   "cell_type": "code",
   "execution_count": 3,
   "metadata": {},
   "outputs": [
    {
     "name": "stderr",
     "output_type": "stream",
     "text": [
      "C:\\ProgramData\\Anaconda3\\lib\\site-packages\\ipykernel_launcher.py:6: ParserWarning: Falling back to the 'python' engine because the 'c' engine does not support regex separators (separators > 1 char and different from '\\s+' are interpreted as regex); you can avoid this warning by specifying engine='python'.\n",
      "  \n",
      "C:\\ProgramData\\Anaconda3\\lib\\site-packages\\ipykernel_launcher.py:7: ParserWarning: Falling back to the 'python' engine because the 'c' engine does not support regex separators (separators > 1 char and different from '\\s+' are interpreted as regex); you can avoid this warning by specifying engine='python'.\n",
      "  import sys\n"
     ]
    },
    {
     "data": {
      "text/html": [
       "<div>\n",
       "<style scoped>\n",
       "    .dataframe tbody tr th:only-of-type {\n",
       "        vertical-align: middle;\n",
       "    }\n",
       "\n",
       "    .dataframe tbody tr th {\n",
       "        vertical-align: top;\n",
       "    }\n",
       "\n",
       "    .dataframe thead th {\n",
       "        text-align: right;\n",
       "    }\n",
       "</style>\n",
       "<table border=\"1\" class=\"dataframe\">\n",
       "  <thead>\n",
       "    <tr style=\"text-align: right;\">\n",
       "      <th></th>\n",
       "      <th>age</th>\n",
       "      <th>workclass</th>\n",
       "      <th>fnlwgt</th>\n",
       "      <th>education</th>\n",
       "      <th>education_num</th>\n",
       "      <th>marital_status</th>\n",
       "      <th>occupation</th>\n",
       "      <th>relationship</th>\n",
       "      <th>race</th>\n",
       "      <th>sex</th>\n",
       "      <th>capital_gain</th>\n",
       "      <th>capital_loss</th>\n",
       "      <th>hours_per_week</th>\n",
       "      <th>native_country</th>\n",
       "      <th>wage_class</th>\n",
       "    </tr>\n",
       "  </thead>\n",
       "  <tbody>\n",
       "    <tr>\n",
       "      <th>0</th>\n",
       "      <td>39</td>\n",
       "      <td>State-gov</td>\n",
       "      <td>77516</td>\n",
       "      <td>Bachelors</td>\n",
       "      <td>13</td>\n",
       "      <td>Never-married</td>\n",
       "      <td>Adm-clerical</td>\n",
       "      <td>Not-in-family</td>\n",
       "      <td>White</td>\n",
       "      <td>Male</td>\n",
       "      <td>2174</td>\n",
       "      <td>0</td>\n",
       "      <td>40</td>\n",
       "      <td>United-States</td>\n",
       "      <td>&lt;=50K</td>\n",
       "    </tr>\n",
       "    <tr>\n",
       "      <th>1</th>\n",
       "      <td>50</td>\n",
       "      <td>Self-emp-not-inc</td>\n",
       "      <td>83311</td>\n",
       "      <td>Bachelors</td>\n",
       "      <td>13</td>\n",
       "      <td>Married-civ-spouse</td>\n",
       "      <td>Exec-managerial</td>\n",
       "      <td>Husband</td>\n",
       "      <td>White</td>\n",
       "      <td>Male</td>\n",
       "      <td>0</td>\n",
       "      <td>0</td>\n",
       "      <td>13</td>\n",
       "      <td>United-States</td>\n",
       "      <td>&lt;=50K</td>\n",
       "    </tr>\n",
       "    <tr>\n",
       "      <th>2</th>\n",
       "      <td>38</td>\n",
       "      <td>Private</td>\n",
       "      <td>215646</td>\n",
       "      <td>HS-grad</td>\n",
       "      <td>9</td>\n",
       "      <td>Divorced</td>\n",
       "      <td>Handlers-cleaners</td>\n",
       "      <td>Not-in-family</td>\n",
       "      <td>White</td>\n",
       "      <td>Male</td>\n",
       "      <td>0</td>\n",
       "      <td>0</td>\n",
       "      <td>40</td>\n",
       "      <td>United-States</td>\n",
       "      <td>&lt;=50K</td>\n",
       "    </tr>\n",
       "    <tr>\n",
       "      <th>3</th>\n",
       "      <td>53</td>\n",
       "      <td>Private</td>\n",
       "      <td>234721</td>\n",
       "      <td>11th</td>\n",
       "      <td>7</td>\n",
       "      <td>Married-civ-spouse</td>\n",
       "      <td>Handlers-cleaners</td>\n",
       "      <td>Husband</td>\n",
       "      <td>Black</td>\n",
       "      <td>Male</td>\n",
       "      <td>0</td>\n",
       "      <td>0</td>\n",
       "      <td>40</td>\n",
       "      <td>United-States</td>\n",
       "      <td>&lt;=50K</td>\n",
       "    </tr>\n",
       "    <tr>\n",
       "      <th>4</th>\n",
       "      <td>28</td>\n",
       "      <td>Private</td>\n",
       "      <td>338409</td>\n",
       "      <td>Bachelors</td>\n",
       "      <td>13</td>\n",
       "      <td>Married-civ-spouse</td>\n",
       "      <td>Prof-specialty</td>\n",
       "      <td>Wife</td>\n",
       "      <td>Black</td>\n",
       "      <td>Female</td>\n",
       "      <td>0</td>\n",
       "      <td>0</td>\n",
       "      <td>40</td>\n",
       "      <td>Cuba</td>\n",
       "      <td>&lt;=50K</td>\n",
       "    </tr>\n",
       "  </tbody>\n",
       "</table>\n",
       "</div>"
      ],
      "text/plain": [
       "   age         workclass  fnlwgt  education  education_num  \\\n",
       "0   39         State-gov   77516  Bachelors             13   \n",
       "1   50  Self-emp-not-inc   83311  Bachelors             13   \n",
       "2   38           Private  215646    HS-grad              9   \n",
       "3   53           Private  234721       11th              7   \n",
       "4   28           Private  338409  Bachelors             13   \n",
       "\n",
       "       marital_status         occupation   relationship   race     sex  \\\n",
       "0       Never-married       Adm-clerical  Not-in-family  White    Male   \n",
       "1  Married-civ-spouse    Exec-managerial        Husband  White    Male   \n",
       "2            Divorced  Handlers-cleaners  Not-in-family  White    Male   \n",
       "3  Married-civ-spouse  Handlers-cleaners        Husband  Black    Male   \n",
       "4  Married-civ-spouse     Prof-specialty           Wife  Black  Female   \n",
       "\n",
       "   capital_gain  capital_loss  hours_per_week native_country wage_class  \n",
       "0          2174             0              40  United-States      <=50K  \n",
       "1             0             0              13  United-States      <=50K  \n",
       "2             0             0              40  United-States      <=50K  \n",
       "3             0             0              40  United-States      <=50K  \n",
       "4             0             0              40           Cuba      <=50K  "
      ]
     },
     "execution_count": 3,
     "metadata": {},
     "output_type": "execute_result"
    }
   ],
   "source": [
    "# Wczytaj dane treningowe i testowe\n",
    "import numpy as np\n",
    "import matplotlib.pyplot as plt\n",
    "import pandas as pd\n",
    "\n",
    "train_set = pd.read_csv('Dane/adult/adult.data', sep=\", \",header = None)\n",
    "test_set = pd.read_csv('Dane/adult/adult.test', sep=\", \",skiprows = 1, header = None) # Make sure to skip a row for the test set\n",
    "\n",
    "col_labels = ['age', 'workclass', 'fnlwgt', 'education', 'education_num', 'marital_status', 'occupation', \n",
    "              'relationship', 'race', 'sex', 'capital_gain', 'capital_loss', 'hours_per_week', 'native_country',\n",
    "             'wage_class']\n",
    "train_set.columns = col_labels\n",
    "test_set.columns = col_labels\n",
    "\n",
    "train = train_set.replace('?', np.nan).dropna()\n",
    "test = test_set.replace('?', np.nan).dropna()\n",
    "\n",
    "train_set.head()\n"
   ]
  },
  {
   "cell_type": "markdown",
   "metadata": {},
   "source": [
    "# Zad.\n",
    "Zróbmy szybki preprocesing"
   ]
  },
  {
   "cell_type": "code",
   "execution_count": 4,
   "metadata": {},
   "outputs": [],
   "source": [
    "dataset = pd.concat([train,test])\n",
    "\n",
    "dataset['wage_class'] = dataset.wage_class.replace({'<=50K.': 0,'<=50K':0, '>50K.':1, '>50K':1})\n",
    "\n",
    "dataset.drop([\"fnlwgt\"],axis=1,inplace=True)\n",
    "\n",
    "dataset.drop([\"education\"],axis=1,inplace=True)\n",
    "\n",
    "x = dataset.groupby('native_country')[\"wage_class\"].mean()\n",
    "\n",
    "d = dict(pd.cut(x[x.index!=\" United-States\"],5,labels=range(5)))\n",
    "\n",
    "dataset['native_country'] = dataset['native_country'].replace(d)\n",
    "\n",
    "dataset = pd.get_dummies(dataset,drop_first=True)\n",
    "\n",
    "train = dataset.iloc[:train.shape[0]]\n",
    "test = dataset.iloc[train.shape[0]:]\n",
    "\n",
    "X_train = train.drop(\"wage_class\",axis=1)\n",
    "y_train = train.wage_class\n",
    "\n",
    "X_test = test.drop(\"wage_class\",axis=1)\n",
    "y_test = test.wage_class\n"
   ]
  },
  {
   "cell_type": "code",
   "execution_count": 5,
   "metadata": {},
   "outputs": [
    {
     "name": "stderr",
     "output_type": "stream",
     "text": [
      "Using TensorFlow backend.\n"
     ]
    }
   ],
   "source": [
    "from keras.callbacks import ModelCheckpoint"
   ]
  },
  {
   "cell_type": "code",
   "execution_count": null,
   "metadata": {},
   "outputs": [],
   "source": []
  },
  {
   "cell_type": "code",
   "execution_count": 7,
   "metadata": {},
   "outputs": [
    {
     "name": "stdout",
     "output_type": "stream",
     "text": [
      "Model: \"sequential_2\"\n",
      "_________________________________________________________________\n",
      "Layer (type)                 Output Shape              Param #   \n",
      "=================================================================\n",
      "dense_5 (Dense)              (None, 100)               4200      \n",
      "_________________________________________________________________\n",
      "dense_6 (Dense)              (None, 50)                5050      \n",
      "_________________________________________________________________\n",
      "dense_7 (Dense)              (None, 10)                510       \n",
      "_________________________________________________________________\n",
      "dense_8 (Dense)              (None, 1)                 11        \n",
      "=================================================================\n",
      "Total params: 9,771\n",
      "Trainable params: 9,771\n",
      "Non-trainable params: 0\n",
      "_________________________________________________________________\n"
     ]
    }
   ],
   "source": [
    "from keras.models import Sequential\n",
    "from keras.layers import Dense\n",
    "\n",
    "from keras.callbacks import History\n",
    "\n",
    "history = History()\n",
    "model = Sequential()\n",
    "model.add(Dense(100,activation=\"sigmoid\",input_shape=(X_train.shape[1],)))\n",
    "model.add(Dense(50,activation=\"sigmoid\"))\n",
    "model.add(Dense(10,activation=\"sigmoid\"))\n",
    "model.add(Dense(1,activation=\"sigmoid\"))\n",
    "model.summary()"
   ]
  },
  {
   "cell_type": "code",
   "execution_count": 8,
   "metadata": {},
   "outputs": [
    {
     "name": "stdout",
     "output_type": "stream",
     "text": [
      "WARNING:tensorflow:From C:\\ProgramData\\Anaconda3\\lib\\site-packages\\tensorflow_core\\python\\ops\\nn_impl.py:183: where (from tensorflow.python.ops.array_ops) is deprecated and will be removed in a future version.\n",
      "Instructions for updating:\n",
      "Use tf.where in 2.0, which has the same broadcast rule as np.where\n"
     ]
    }
   ],
   "source": [
    "save_best_model = ModelCheckpoint(\"wagi_best.h5py\",save_best_only=True)\n",
    "model.compile(loss=\"binary_crossentropy\",optimizer=\"Adam\", metrics=[\"accuracy\"])"
   ]
  },
  {
   "cell_type": "code",
   "execution_count": 10,
   "metadata": {},
   "outputs": [
    {
     "name": "stdout",
     "output_type": "stream",
     "text": [
      "Train on 30162 samples, validate on 15060 samples\n",
      "Epoch 1/100\n",
      "30162/30162 [==============================] - 2s 52us/step - loss: 0.4761 - accuracy: 0.7761 - val_loss: 0.3871 - val_accuracy: 0.8108\n",
      "Epoch 2/100\n",
      "30162/30162 [==============================] - 1s 47us/step - loss: 0.3862 - accuracy: 0.8083 - val_loss: 0.3812 - val_accuracy: 0.8055\n",
      "Epoch 3/100\n",
      "30162/30162 [==============================] - 2s 51us/step - loss: 0.3754 - accuracy: 0.8134 - val_loss: 0.3770 - val_accuracy: 0.8155\n",
      "Epoch 4/100\n",
      "30162/30162 [==============================] - 1s 48us/step - loss: 0.3718 - accuracy: 0.8134 - val_loss: 0.3654 - val_accuracy: 0.8177\n",
      "Epoch 5/100\n",
      "30162/30162 [==============================] - 1s 48us/step - loss: 0.3723 - accuracy: 0.8116 - val_loss: 0.3715 - val_accuracy: 0.8168\n",
      "Epoch 6/100\n",
      "30162/30162 [==============================] - 1s 49us/step - loss: 0.3708 - accuracy: 0.8133 - val_loss: 0.3650 - val_accuracy: 0.8159\n",
      "Epoch 7/100\n",
      "30162/30162 [==============================] - 1s 49us/step - loss: 0.3698 - accuracy: 0.8127 - val_loss: 0.3939 - val_accuracy: 0.8047\n",
      "Epoch 8/100\n",
      "30162/30162 [==============================] - 1s 48us/step - loss: 0.3702 - accuracy: 0.8150 - val_loss: 0.3895 - val_accuracy: 0.8065\n",
      "Epoch 9/100\n",
      "30162/30162 [==============================] - 1s 47us/step - loss: 0.3681 - accuracy: 0.8136 - val_loss: 0.3665 - val_accuracy: 0.8112\n",
      "Epoch 10/100\n",
      "30162/30162 [==============================] - 1s 46us/step - loss: 0.3663 - accuracy: 0.8149 - val_loss: 0.3653 - val_accuracy: 0.8153\n",
      "Epoch 11/100\n",
      "30162/30162 [==============================] - 1s 47us/step - loss: 0.3653 - accuracy: 0.8173 - val_loss: 0.3786 - val_accuracy: 0.8158\n",
      "Epoch 12/100\n",
      "30162/30162 [==============================] - 1s 46us/step - loss: 0.3667 - accuracy: 0.8156 - val_loss: 0.3645 - val_accuracy: 0.8162\n",
      "Epoch 13/100\n",
      "30162/30162 [==============================] - 1s 47us/step - loss: 0.3648 - accuracy: 0.8138 - val_loss: 0.3678 - val_accuracy: 0.8117\n",
      "Epoch 14/100\n",
      "30162/30162 [==============================] - 1s 47us/step - loss: 0.3648 - accuracy: 0.8142 - val_loss: 0.3643 - val_accuracy: 0.8137\n",
      "Epoch 15/100\n",
      "30162/30162 [==============================] - 1s 49us/step - loss: 0.3639 - accuracy: 0.8154 - val_loss: 0.3642 - val_accuracy: 0.8183\n",
      "Epoch 16/100\n",
      "30162/30162 [==============================] - 1s 49us/step - loss: 0.3646 - accuracy: 0.8162 - val_loss: 0.3781 - val_accuracy: 0.8106\n",
      "Epoch 17/100\n",
      "30162/30162 [==============================] - 2s 50us/step - loss: 0.3621 - accuracy: 0.8157 - val_loss: 0.3672 - val_accuracy: 0.8165\n",
      "Epoch 18/100\n",
      "30162/30162 [==============================] - 1s 47us/step - loss: 0.3630 - accuracy: 0.8170 - val_loss: 0.3754 - val_accuracy: 0.8054\n",
      "Epoch 19/100\n",
      "30162/30162 [==============================] - 1s 47us/step - loss: 0.3615 - accuracy: 0.8184 - val_loss: 0.3630 - val_accuracy: 0.8195\n",
      "Epoch 20/100\n",
      "30162/30162 [==============================] - 1s 48us/step - loss: 0.3626 - accuracy: 0.8180 - val_loss: 0.3613 - val_accuracy: 0.8187\n",
      "Epoch 21/100\n",
      "30162/30162 [==============================] - 1s 48us/step - loss: 0.3611 - accuracy: 0.8182 - val_loss: 0.3613 - val_accuracy: 0.8177\n",
      "Epoch 22/100\n",
      "30162/30162 [==============================] - 1s 48us/step - loss: 0.3609 - accuracy: 0.8169 - val_loss: 0.3643 - val_accuracy: 0.8146\n",
      "Epoch 23/100\n",
      "30162/30162 [==============================] - 1s 49us/step - loss: 0.3626 - accuracy: 0.8159 - val_loss: 0.3656 - val_accuracy: 0.8151\n",
      "Epoch 24/100\n",
      "30162/30162 [==============================] - 1s 47us/step - loss: 0.3609 - accuracy: 0.8167 - val_loss: 0.3636 - val_accuracy: 0.8175\n",
      "Epoch 25/100\n",
      "30162/30162 [==============================] - 1s 48us/step - loss: 0.3606 - accuracy: 0.8179 - val_loss: 0.3723 - val_accuracy: 0.8150\n",
      "Epoch 26/100\n",
      "30162/30162 [==============================] - 1s 47us/step - loss: 0.3604 - accuracy: 0.8173 - val_loss: 0.3649 - val_accuracy: 0.8144\n",
      "Epoch 27/100\n",
      "30162/30162 [==============================] - 1s 48us/step - loss: 0.3611 - accuracy: 0.8173 - val_loss: 0.3649 - val_accuracy: 0.8139\n",
      "Epoch 28/100\n",
      "30162/30162 [==============================] - 1s 47us/step - loss: 0.3599 - accuracy: 0.8184 - val_loss: 0.3785 - val_accuracy: 0.8116\n",
      "Epoch 29/100\n",
      "30162/30162 [==============================] - 1s 47us/step - loss: 0.3603 - accuracy: 0.8173 - val_loss: 0.3604 - val_accuracy: 0.8181\n",
      "Epoch 30/100\n",
      "30162/30162 [==============================] - 1s 47us/step - loss: 0.3593 - accuracy: 0.8200 - val_loss: 0.3614 - val_accuracy: 0.8187\n",
      "Epoch 31/100\n",
      "30162/30162 [==============================] - 1s 47us/step - loss: 0.3594 - accuracy: 0.8194 - val_loss: 0.3683 - val_accuracy: 0.8118\n",
      "Epoch 32/100\n",
      "30162/30162 [==============================] - 1s 48us/step - loss: 0.3598 - accuracy: 0.8183 - val_loss: 0.3660 - val_accuracy: 0.8189\n",
      "Epoch 33/100\n",
      "30162/30162 [==============================] - 1s 47us/step - loss: 0.3596 - accuracy: 0.8170 - val_loss: 0.3666 - val_accuracy: 0.7942\n",
      "Epoch 34/100\n",
      "30162/30162 [==============================] - 1s 47us/step - loss: 0.3596 - accuracy: 0.8186 - val_loss: 0.3613 - val_accuracy: 0.8204\n",
      "Epoch 35/100\n",
      "30162/30162 [==============================] - 1s 47us/step - loss: 0.3588 - accuracy: 0.8180 - val_loss: 0.3626 - val_accuracy: 0.8148\n",
      "Epoch 36/100\n",
      "30162/30162 [==============================] - 1s 47us/step - loss: 0.3585 - accuracy: 0.8197 - val_loss: 0.3763 - val_accuracy: 0.8155\n",
      "Epoch 37/100\n",
      "30162/30162 [==============================] - 1s 46us/step - loss: 0.3583 - accuracy: 0.8195 - val_loss: 0.3662 - val_accuracy: 0.8109\n",
      "Epoch 38/100\n",
      "30162/30162 [==============================] - 1s 48us/step - loss: 0.3595 - accuracy: 0.8179 - val_loss: 0.3632 - val_accuracy: 0.8195\n",
      "Epoch 39/100\n",
      "30162/30162 [==============================] - 1s 47us/step - loss: 0.3579 - accuracy: 0.8217 - val_loss: 0.3627 - val_accuracy: 0.8167\n",
      "Epoch 40/100\n",
      "30162/30162 [==============================] - 1s 49us/step - loss: 0.3607 - accuracy: 0.8175 - val_loss: 0.3711 - val_accuracy: 0.8167\n",
      "Epoch 41/100\n",
      "30162/30162 [==============================] - 1s 46us/step - loss: 0.3609 - accuracy: 0.8168 - val_loss: 0.3614 - val_accuracy: 0.8167\n",
      "Epoch 42/100\n",
      "30162/30162 [==============================] - 1s 46us/step - loss: 0.3596 - accuracy: 0.8154 - val_loss: 0.3658 - val_accuracy: 0.8179\n",
      "Epoch 43/100\n",
      "30162/30162 [==============================] - 1s 47us/step - loss: 0.3601 - accuracy: 0.8169 - val_loss: 0.3746 - val_accuracy: 0.8062\n",
      "Epoch 44/100\n",
      "30162/30162 [==============================] - 1s 47us/step - loss: 0.3599 - accuracy: 0.8185 - val_loss: 0.3613 - val_accuracy: 0.8183\n",
      "Epoch 45/100\n",
      "30162/30162 [==============================] - 1s 47us/step - loss: 0.3584 - accuracy: 0.8190 - val_loss: 0.3654 - val_accuracy: 0.8171\n",
      "Epoch 46/100\n",
      "30162/30162 [==============================] - 1s 47us/step - loss: 0.3586 - accuracy: 0.8190 - val_loss: 0.3608 - val_accuracy: 0.8182\n",
      "Epoch 47/100\n",
      "30162/30162 [==============================] - 1s 47us/step - loss: 0.3591 - accuracy: 0.8186 - val_loss: 0.3733 - val_accuracy: 0.8123\n",
      "Epoch 48/100\n",
      "30162/30162 [==============================] - 1s 47us/step - loss: 0.3584 - accuracy: 0.8173 - val_loss: 0.3665 - val_accuracy: 0.8094\n",
      "Epoch 49/100\n",
      "30162/30162 [==============================] - 1s 46us/step - loss: 0.3578 - accuracy: 0.8176 - val_loss: 0.3619 - val_accuracy: 0.8166\n",
      "Epoch 50/100\n",
      "30162/30162 [==============================] - 1s 47us/step - loss: 0.3582 - accuracy: 0.8198 - val_loss: 0.3673 - val_accuracy: 0.8100\n",
      "Epoch 51/100\n",
      "30162/30162 [==============================] - 2s 50us/step - loss: 0.3578 - accuracy: 0.8193 - val_loss: 0.3626 - val_accuracy: 0.8191\n",
      "Epoch 52/100\n",
      "30162/30162 [==============================] - 1s 49us/step - loss: 0.3570 - accuracy: 0.8185 - val_loss: 0.3615 - val_accuracy: 0.8183\n",
      "Epoch 53/100\n",
      "30162/30162 [==============================] - 2s 55us/step - loss: 0.3572 - accuracy: 0.8210 - val_loss: 0.3635 - val_accuracy: 0.8141\n",
      "Epoch 54/100\n",
      "30162/30162 [==============================] - 1s 48us/step - loss: 0.3576 - accuracy: 0.8182 - val_loss: 0.3630 - val_accuracy: 0.8165\n",
      "Epoch 55/100\n",
      "30162/30162 [==============================] - 1s 49us/step - loss: 0.3572 - accuracy: 0.8185 - val_loss: 0.3620 - val_accuracy: 0.8151\n"
     ]
    },
    {
     "name": "stdout",
     "output_type": "stream",
     "text": [
      "Epoch 56/100\n",
      "30162/30162 [==============================] - 1s 46us/step - loss: 0.3570 - accuracy: 0.8181 - val_loss: 0.3664 - val_accuracy: 0.8164\n",
      "Epoch 57/100\n",
      "30162/30162 [==============================] - 1s 47us/step - loss: 0.3567 - accuracy: 0.8202 - val_loss: 0.3724 - val_accuracy: 0.8053\n",
      "Epoch 58/100\n",
      "30162/30162 [==============================] - 1s 47us/step - loss: 0.3561 - accuracy: 0.8190 - val_loss: 0.3648 - val_accuracy: 0.8172\n",
      "Epoch 59/100\n",
      "30162/30162 [==============================] - 1s 46us/step - loss: 0.3553 - accuracy: 0.8192 - val_loss: 0.3617 - val_accuracy: 0.8173\n",
      "Epoch 60/100\n",
      "30162/30162 [==============================] - 1s 48us/step - loss: 0.3555 - accuracy: 0.8223 - val_loss: 0.3626 - val_accuracy: 0.8185\n",
      "Epoch 61/100\n",
      "30162/30162 [==============================] - 1s 48us/step - loss: 0.3547 - accuracy: 0.8198 - val_loss: 0.3691 - val_accuracy: 0.8124\n",
      "Epoch 62/100\n",
      "30162/30162 [==============================] - 1s 48us/step - loss: 0.3561 - accuracy: 0.8200 - val_loss: 0.3620 - val_accuracy: 0.8168\n",
      "Epoch 63/100\n",
      "30162/30162 [==============================] - 1s 48us/step - loss: 0.3550 - accuracy: 0.8212 - val_loss: 0.3625 - val_accuracy: 0.8158\n",
      "Epoch 64/100\n",
      "30162/30162 [==============================] - 1s 48us/step - loss: 0.3558 - accuracy: 0.8192 - val_loss: 0.3625 - val_accuracy: 0.8180\n",
      "Epoch 65/100\n",
      "30162/30162 [==============================] - 1s 48us/step - loss: 0.3550 - accuracy: 0.8198 - val_loss: 0.3681 - val_accuracy: 0.8102\n",
      "Epoch 66/100\n",
      "30162/30162 [==============================] - 1s 47us/step - loss: 0.3555 - accuracy: 0.8188 - val_loss: 0.3639 - val_accuracy: 0.8173\n",
      "Epoch 67/100\n",
      "30162/30162 [==============================] - 1s 48us/step - loss: 0.3548 - accuracy: 0.8201 - val_loss: 0.3624 - val_accuracy: 0.8164\n",
      "Epoch 68/100\n",
      "30162/30162 [==============================] - 1s 47us/step - loss: 0.3544 - accuracy: 0.8187 - val_loss: 0.3616 - val_accuracy: 0.8175\n",
      "Epoch 69/100\n",
      "30162/30162 [==============================] - 1s 46us/step - loss: 0.3545 - accuracy: 0.8201 - val_loss: 0.3636 - val_accuracy: 0.8165\n",
      "Epoch 70/100\n",
      "30162/30162 [==============================] - 1s 47us/step - loss: 0.3542 - accuracy: 0.8203 - val_loss: 0.3628 - val_accuracy: 0.8167\n",
      "Epoch 71/100\n",
      "30162/30162 [==============================] - 1s 46us/step - loss: 0.3538 - accuracy: 0.8195 - val_loss: 0.3626 - val_accuracy: 0.8167\n",
      "Epoch 72/100\n",
      "30162/30162 [==============================] - 1s 48us/step - loss: 0.3534 - accuracy: 0.8211 - val_loss: 0.3619 - val_accuracy: 0.8177\n",
      "Epoch 73/100\n",
      "30162/30162 [==============================] - 1s 47us/step - loss: 0.3540 - accuracy: 0.8200 - val_loss: 0.3615 - val_accuracy: 0.8173\n",
      "Epoch 74/100\n",
      "30162/30162 [==============================] - 1s 47us/step - loss: 0.3529 - accuracy: 0.8203 - val_loss: 0.3624 - val_accuracy: 0.8154\n",
      "Epoch 75/100\n",
      "30162/30162 [==============================] - 1s 47us/step - loss: 0.3534 - accuracy: 0.8197 - val_loss: 0.3643 - val_accuracy: 0.8165\n",
      "Epoch 76/100\n",
      "30162/30162 [==============================] - 1s 48us/step - loss: 0.3538 - accuracy: 0.8209 - val_loss: 0.3626 - val_accuracy: 0.8169\n",
      "Epoch 77/100\n",
      "30162/30162 [==============================] - 1s 47us/step - loss: 0.3524 - accuracy: 0.8193 - val_loss: 0.3644 - val_accuracy: 0.8173\n",
      "Epoch 78/100\n",
      "30162/30162 [==============================] - 1s 47us/step - loss: 0.3521 - accuracy: 0.8200 - val_loss: 0.3888 - val_accuracy: 0.7963\n",
      "Epoch 79/100\n",
      "30162/30162 [==============================] - 1s 49us/step - loss: 0.3529 - accuracy: 0.8196 - val_loss: 0.3623 - val_accuracy: 0.8169\n",
      "Epoch 80/100\n",
      "30162/30162 [==============================] - 1s 48us/step - loss: 0.3520 - accuracy: 0.8217 - val_loss: 0.3647 - val_accuracy: 0.8141\n",
      "Epoch 81/100\n",
      "30162/30162 [==============================] - 2s 50us/step - loss: 0.3516 - accuracy: 0.8204 - val_loss: 0.3650 - val_accuracy: 0.8157\n",
      "Epoch 82/100\n",
      "30162/30162 [==============================] - 1s 48us/step - loss: 0.3515 - accuracy: 0.8226 - val_loss: 0.3630 - val_accuracy: 0.8169\n",
      "Epoch 83/100\n",
      "30162/30162 [==============================] - 1s 48us/step - loss: 0.3511 - accuracy: 0.8204 - val_loss: 0.3666 - val_accuracy: 0.8176\n",
      "Epoch 84/100\n",
      "30162/30162 [==============================] - 1s 47us/step - loss: 0.3517 - accuracy: 0.8218 - val_loss: 0.3713 - val_accuracy: 0.8162\n",
      "Epoch 85/100\n",
      "30162/30162 [==============================] - 1s 49us/step - loss: 0.3513 - accuracy: 0.8222 - val_loss: 0.3638 - val_accuracy: 0.8165\n",
      "Epoch 86/100\n",
      "30162/30162 [==============================] - 1s 48us/step - loss: 0.3510 - accuracy: 0.8208 - val_loss: 0.3628 - val_accuracy: 0.8163\n",
      "Epoch 87/100\n",
      "30162/30162 [==============================] - 1s 48us/step - loss: 0.3511 - accuracy: 0.8212 - val_loss: 0.3682 - val_accuracy: 0.8162\n",
      "Epoch 88/100\n",
      "30162/30162 [==============================] - 1s 47us/step - loss: 0.3506 - accuracy: 0.8216 - val_loss: 0.3673 - val_accuracy: 0.8129\n",
      "Epoch 89/100\n",
      "30162/30162 [==============================] - 1s 48us/step - loss: 0.3507 - accuracy: 0.8220 - val_loss: 0.3631 - val_accuracy: 0.8161\n",
      "Epoch 90/100\n",
      "30162/30162 [==============================] - 1s 48us/step - loss: 0.3517 - accuracy: 0.8218 - val_loss: 0.3652 - val_accuracy: 0.8165\n",
      "Epoch 91/100\n",
      "30162/30162 [==============================] - 1s 47us/step - loss: 0.3509 - accuracy: 0.8227 - val_loss: 0.3642 - val_accuracy: 0.8155\n",
      "Epoch 92/100\n",
      "30162/30162 [==============================] - 1s 48us/step - loss: 0.3497 - accuracy: 0.8202 - val_loss: 0.3658 - val_accuracy: 0.8160\n",
      "Epoch 93/100\n",
      "30162/30162 [==============================] - 1s 46us/step - loss: 0.3504 - accuracy: 0.8210 - val_loss: 0.3636 - val_accuracy: 0.8177\n",
      "Epoch 94/100\n",
      "30162/30162 [==============================] - 1s 47us/step - loss: 0.3499 - accuracy: 0.8213 - val_loss: 0.3654 - val_accuracy: 0.8147\n",
      "Epoch 95/100\n",
      "30162/30162 [==============================] - 1s 47us/step - loss: 0.3498 - accuracy: 0.8217 - val_loss: 0.3624 - val_accuracy: 0.8167\n",
      "Epoch 96/100\n",
      "30162/30162 [==============================] - 1s 47us/step - loss: 0.3499 - accuracy: 0.8226 - val_loss: 0.3654 - val_accuracy: 0.8147\n",
      "Epoch 97/100\n",
      "30162/30162 [==============================] - 1s 48us/step - loss: 0.3500 - accuracy: 0.8211 - val_loss: 0.3642 - val_accuracy: 0.8152\n",
      "Epoch 98/100\n",
      "30162/30162 [==============================] - 2s 51us/step - loss: 0.3497 - accuracy: 0.8217 - val_loss: 0.3668 - val_accuracy: 0.8152\n",
      "Epoch 99/100\n",
      "30162/30162 [==============================] - 1s 48us/step - loss: 0.3498 - accuracy: 0.8209 - val_loss: 0.3639 - val_accuracy: 0.8159\n",
      "Epoch 100/100\n",
      "30162/30162 [==============================] - 1s 47us/step - loss: 0.3496 - accuracy: 0.8216 - val_loss: 0.3630 - val_accuracy: 0.8159\n"
     ]
    }
   ],
   "source": [
    "save_best_model = ModelCheckpoint(\"wagi_best.h5py\",save_best_only=True)\n",
    "history = model.fit(X_train, y_train, validation_data= (X_test, y_test), batch_size=32,epochs=100, callbacks=[save_best_model])"
   ]
  },
  {
   "cell_type": "code",
   "execution_count": 11,
   "metadata": {},
   "outputs": [
    {
     "data": {
      "image/png": "[encoded data removed]",
      "text/plain": [
       "<Figure size 576x360 with 1 Axes>"
      ]
     },
     "metadata": {
      "needs_background": "light"
     },
     "output_type": "display_data"
    }
   ],
   "source": [
    "import pandas as pd\n",
    "\n",
    "pd.DataFrame(history.history).plot(figsize=(8, 5))\n",
    "plt.grid(True)\n",
    "plt.gca().set_ylim(0, 1)\n",
    "plt.show()"
   ]
  },
  {
   "cell_type": "code",
   "execution_count": 12,
   "metadata": {},
   "outputs": [
    {
     "name": "stdout",
     "output_type": "stream",
     "text": [
      "15060/15060 [==============================] - 0s 16us/step\n"
     ]
    },
    {
     "data": {
      "text/plain": [
       "[0.36299147292437306, 0.8158698678016663]"
      ]
     },
     "execution_count": 12,
     "metadata": {},
     "output_type": "execute_result"
    }
   ],
   "source": [
    "model.evaluate(X_test,y_test)"
   ]
  },
  {
   "cell_type": "code",
   "execution_count": 13,
   "metadata": {},
   "outputs": [
    {
     "data": {
      "text/plain": [
       "0.8158698539176626"
      ]
     },
     "execution_count": 13,
     "metadata": {},
     "output_type": "execute_result"
    }
   ],
   "source": [
    "from sklearn import  metrics\n",
    "metrics.accuracy_score(y_true= y_test, y_pred= model.predict_classes(X_test) )"
   ]
  },
  {
   "cell_type": "markdown",
   "metadata": {},
   "source": [
    "# Zad\n",
    "\n",
    "Wczytaj nauczony model"
   ]
  },
  {
   "cell_type": "code",
   "execution_count": 14,
   "metadata": {},
   "outputs": [
    {
     "name": "stdout",
     "output_type": "stream",
     "text": [
      "15060/15060 [==============================] - 0s 15us/step\n"
     ]
    },
    {
     "data": {
      "text/plain": [
       "[0.36044085541886006, 0.818061113357544]"
      ]
     },
     "execution_count": 14,
     "metadata": {},
     "output_type": "execute_result"
    }
   ],
   "source": [
    "model.load_weights(\"wagi_best.h5py\")\n",
    "model.evaluate(X_test,y_test)"
   ]
  },
  {
   "cell_type": "markdown",
   "metadata": {},
   "source": [
    "# Zad\n",
    "\n",
    "* Naucz dowolny model na zbiorze MNIST.\n",
    "* Zapisz optymalne parametry uczenia do pliku\n",
    "* Wczytaj dane z pliku"
   ]
  },
  {
   "cell_type": "code",
   "execution_count": null,
   "metadata": {},
   "outputs": [],
   "source": []
  }
 ],
 "metadata": {
  "kernelspec": {
   "display_name": "Python 3",
   "language": "python",
   "name": "python3"
  },
  "language_info": {
   "codemirror_mode": {
    "name": "ipython",
    "version": 3
   },
   "file_extension": ".py",
   "mimetype": "text/x-python",
   "name": "python",
   "nbconvert_exporter": "python",
   "pygments_lexer": "ipython3",
   "version": "3.7.3"
  }
 },
 "nbformat": 4,
 "nbformat_minor": 4
}
