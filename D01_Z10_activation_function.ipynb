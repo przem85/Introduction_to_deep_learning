{
 "cells": [
  {
   "cell_type": "code",
   "execution_count": null,
   "metadata": {},
   "outputs": [],
   "source": [
    "import tensorflow as tf\n",
    "from tensorflow import keras\n",
    "print(tf.__version__)\n",
    "\n",
    "print(keras.__version__)"
   ]
  },
  {
   "cell_type": "code",
   "execution_count": null,
   "metadata": {},
   "outputs": [],
   "source": [
    "import numpy as np\n",
    "import pandas as pd\n",
    "import matplotlib.pyplot as plt\n",
    "import os"
   ]
  },
  {
   "cell_type": "code",
   "execution_count": null,
   "metadata": {},
   "outputs": [],
   "source": [
    "# Wczytaj dane treningowe i testowe\n",
    "import numpy as np\n",
    "import matplotlib.pyplot as plt\n",
    "import pandas as pd\n",
    "\n",
    "train_set = pd.read_csv('Dane/adult/adult.data', sep=\", \",header = None)\n",
    "test_set = pd.read_csv('Dane/adult/adult.test', sep=\", \",skiprows = 1, header = None) # Make sure to skip a row for the test set\n",
    "\n",
    "col_labels = ['age', 'workclass', 'fnlwgt', 'education', 'education_num', 'marital_status', 'occupation', \n",
    "              'relationship', 'race', 'sex', 'capital_gain', 'capital_loss', 'hours_per_week', 'native_country',\n",
    "             'wage_class']\n",
    "train_set.columns = col_labels\n",
    "test_set.columns = col_labels\n",
    "\n",
    "train = train_set.replace('?', np.nan).dropna()\n",
    "test = test_set.replace('?', np.nan).dropna()\n",
    "\n",
    "train_set.head()\n"
   ]
  },
  {
   "cell_type": "markdown",
   "metadata": {},
   "source": [
    "# Zad.\n",
    "Zróbmy szybki preprocesing"
   ]
  },
  {
   "cell_type": "code",
   "execution_count": 4,
   "metadata": {},
   "outputs": [],
   "source": [
    "dataset = pd.concat([train,test])\n",
    "\n",
    "dataset['wage_class'] = dataset.wage_class.replace({'<=50K.': 0,'<=50K':0, '>50K.':1, '>50K':1})\n",
    "\n",
    "dataset.drop([\"fnlwgt\"],axis=1,inplace=True)\n",
    "\n",
    "dataset.drop([\"education\"],axis=1,inplace=True)\n",
    "\n",
    "x = dataset.groupby('native_country')[\"wage_class\"].mean()\n",
    "\n",
    "d = dict(pd.cut(x[x.index!=\" United-States\"],5,labels=range(5)))\n",
    "\n",
    "dataset['native_country'] = dataset['native_country'].replace(d)\n",
    "\n",
    "dataset = pd.get_dummies(dataset,drop_first=True)\n",
    "\n",
    "train = dataset.iloc[:train.shape[0]]\n",
    "test = dataset.iloc[train.shape[0]:]\n",
    "\n",
    "X_train = train.drop(\"wage_class\",axis=1)\n",
    "y_train = train.wage_class\n",
    "\n",
    "X_test = test.drop(\"wage_class\",axis=1)\n",
    "y_test = test.wage_class\n"
   ]
  },
  {
   "cell_type": "markdown",
   "metadata": {},
   "source": [
    "# Zad\n",
    "Nauczmy prosty model."
   ]
  },
  {
   "cell_type": "code",
   "execution_count": 5,
   "metadata": {},
   "outputs": [
    {
     "name": "stdout",
     "output_type": "stream",
     "text": [
      "Model: \"sequential_1\"\n",
      "_________________________________________________________________\n",
      "Layer (type)                 Output Shape              Param #   \n",
      "=================================================================\n",
      "dense_1 (Dense)              (None, 100)               4200      \n",
      "_________________________________________________________________\n",
      "dense_2 (Dense)              (None, 50)                5050      \n",
      "_________________________________________________________________\n",
      "dense_3 (Dense)              (None, 10)                510       \n",
      "_________________________________________________________________\n",
      "dense_4 (Dense)              (None, 1)                 11        \n",
      "=================================================================\n",
      "Total params: 9,771\n",
      "Trainable params: 9,771\n",
      "Non-trainable params: 0\n",
      "_________________________________________________________________\n"
     ]
    },
    {
     "name": "stderr",
     "output_type": "stream",
     "text": [
      "Using TensorFlow backend.\n"
     ]
    }
   ],
   "source": [
    "from keras.models import Sequential\n",
    "from keras.layers import Dense\n",
    "\n",
    "from keras.callbacks import History\n",
    "\n",
    "history = History()\n",
    "model = Sequential()\n",
    "model.add(Dense(100,activation=\"sigmoid\",input_shape=(X_train.shape[1],)))\n",
    "model.add(Dense(50,activation=\"sigmoid\"))\n",
    "model.add(Dense(10,activation=\"sigmoid\"))\n",
    "model.add(Dense(1,activation=\"sigmoid\"))\n",
    "model.summary()"
   ]
  },
  {
   "cell_type": "code",
   "execution_count": 6,
   "metadata": {},
   "outputs": [
    {
     "name": "stdout",
     "output_type": "stream",
     "text": [
      "WARNING:tensorflow:From C:\\ProgramData\\Anaconda3\\lib\\site-packages\\tensorflow_core\\python\\ops\\nn_impl.py:183: where (from tensorflow.python.ops.array_ops) is deprecated and will be removed in a future version.\n",
      "Instructions for updating:\n",
      "Use tf.where in 2.0, which has the same broadcast rule as np.where\n"
     ]
    }
   ],
   "source": [
    "model.compile(loss=\"binary_crossentropy\",optimizer=\"Adam\", metrics=[\"accuracy\"])"
   ]
  },
  {
   "cell_type": "code",
   "execution_count": 7,
   "metadata": {},
   "outputs": [
    {
     "name": "stdout",
     "output_type": "stream",
     "text": [
      "Train on 30162 samples, validate on 15060 samples\n",
      "Epoch 1/100\n",
      "30162/30162 [==============================] - 2s 50us/step - loss: 0.4822 - accuracy: 0.7724 - val_loss: 0.3924 - val_accuracy: 0.8112\n",
      "Epoch 2/100\n",
      "30162/30162 [==============================] - 1s 46us/step - loss: 0.3876 - accuracy: 0.8092 - val_loss: 0.3779 - val_accuracy: 0.8145\n",
      "Epoch 3/100\n",
      "30162/30162 [==============================] - 1s 47us/step - loss: 0.3787 - accuracy: 0.8117 - val_loss: 0.3725 - val_accuracy: 0.7912\n",
      "Epoch 4/100\n",
      "30162/30162 [==============================] - 1s 45us/step - loss: 0.3755 - accuracy: 0.8126 - val_loss: 0.3755 - val_accuracy: 0.8077\n",
      "Epoch 5/100\n",
      "30162/30162 [==============================] - 1s 48us/step - loss: 0.3738 - accuracy: 0.8126 - val_loss: 0.3731 - val_accuracy: 0.8078\n",
      "Epoch 6/100\n",
      "30162/30162 [==============================] - 1s 46us/step - loss: 0.3712 - accuracy: 0.8119 - val_loss: 0.3667 - val_accuracy: 0.8156\n",
      "Epoch 7/100\n",
      "30162/30162 [==============================] - 1s 46us/step - loss: 0.3714 - accuracy: 0.8143 - val_loss: 0.3681 - val_accuracy: 0.8126\n",
      "Epoch 8/100\n",
      "30162/30162 [==============================] - 1s 46us/step - loss: 0.3674 - accuracy: 0.8175 - val_loss: 0.3650 - val_accuracy: 0.8197\n",
      "Epoch 9/100\n",
      "30162/30162 [==============================] - 1s 45us/step - loss: 0.3645 - accuracy: 0.8208 - val_loss: 0.3617 - val_accuracy: 0.8251\n",
      "Epoch 10/100\n",
      "30162/30162 [==============================] - 1s 47us/step - loss: 0.3550 - accuracy: 0.8263 - val_loss: 0.3778 - val_accuracy: 0.8050\n",
      "Epoch 11/100\n",
      "30162/30162 [==============================] - 1s 47us/step - loss: 0.3687 - accuracy: 0.8118 - val_loss: 0.3676 - val_accuracy: 0.8123\n",
      "Epoch 12/100\n",
      "30162/30162 [==============================] - 1s 48us/step - loss: 0.3664 - accuracy: 0.8151 - val_loss: 0.3665 - val_accuracy: 0.8177\n",
      "Epoch 13/100\n",
      "30162/30162 [==============================] - 1s 45us/step - loss: 0.3658 - accuracy: 0.8133 - val_loss: 0.3975 - val_accuracy: 0.7906\n",
      "Epoch 14/100\n",
      "30162/30162 [==============================] - 1s 45us/step - loss: 0.3662 - accuracy: 0.8125 - val_loss: 0.3626 - val_accuracy: 0.8152\n",
      "Epoch 15/100\n",
      "30162/30162 [==============================] - 1s 46us/step - loss: 0.3675 - accuracy: 0.8152 - val_loss: 0.3637 - val_accuracy: 0.8171\n",
      "Epoch 16/100\n",
      "30162/30162 [==============================] - 1s 47us/step - loss: 0.3666 - accuracy: 0.8164 - val_loss: 0.3643 - val_accuracy: 0.8118\n",
      "Epoch 17/100\n",
      "30162/30162 [==============================] - 1s 45us/step - loss: 0.3641 - accuracy: 0.8179 - val_loss: 0.3644 - val_accuracy: 0.8189\n",
      "Epoch 18/100\n",
      "30162/30162 [==============================] - 1s 46us/step - loss: 0.3650 - accuracy: 0.8157 - val_loss: 0.3669 - val_accuracy: 0.8177\n",
      "Epoch 19/100\n",
      "30162/30162 [==============================] - 1s 46us/step - loss: 0.3659 - accuracy: 0.8153 - val_loss: 0.3659 - val_accuracy: 0.8184\n",
      "Epoch 20/100\n",
      "30162/30162 [==============================] - 1s 46us/step - loss: 0.3650 - accuracy: 0.8160 - val_loss: 0.3658 - val_accuracy: 0.8175\n",
      "Epoch 21/100\n",
      "30162/30162 [==============================] - 1s 47us/step - loss: 0.3651 - accuracy: 0.8161 - val_loss: 0.3775 - val_accuracy: 0.8074\n",
      "Epoch 22/100\n",
      "30162/30162 [==============================] - 1s 46us/step - loss: 0.3640 - accuracy: 0.8159 - val_loss: 0.3624 - val_accuracy: 0.8173\n",
      "Epoch 23/100\n",
      "30162/30162 [==============================] - 1s 46us/step - loss: 0.3651 - accuracy: 0.8148 - val_loss: 0.3628 - val_accuracy: 0.8175\n",
      "Epoch 24/100\n",
      "30162/30162 [==============================] - 1s 46us/step - loss: 0.3649 - accuracy: 0.8168 - val_loss: 0.3619 - val_accuracy: 0.8188\n",
      "Epoch 25/100\n",
      "30162/30162 [==============================] - 1s 44us/step - loss: 0.3639 - accuracy: 0.8170 - val_loss: 0.3646 - val_accuracy: 0.8159\n",
      "Epoch 26/100\n",
      "30162/30162 [==============================] - 1s 46us/step - loss: 0.3631 - accuracy: 0.8167 - val_loss: 0.3731 - val_accuracy: 0.8166\n",
      "Epoch 27/100\n",
      "30162/30162 [==============================] - 1s 45us/step - loss: 0.3631 - accuracy: 0.8175 - val_loss: 0.3636 - val_accuracy: 0.8170\n",
      "Epoch 28/100\n",
      "30162/30162 [==============================] - 1s 46us/step - loss: 0.3637 - accuracy: 0.8157 - val_loss: 0.3693 - val_accuracy: 0.8120\n",
      "Epoch 29/100\n",
      "30162/30162 [==============================] - 1s 47us/step - loss: 0.3626 - accuracy: 0.8163 - val_loss: 0.3746 - val_accuracy: 0.8112\n",
      "Epoch 30/100\n",
      "30162/30162 [==============================] - 1s 44us/step - loss: 0.3629 - accuracy: 0.8174 - val_loss: 0.3707 - val_accuracy: 0.8159\n",
      "Epoch 31/100\n",
      "30162/30162 [==============================] - 1s 46us/step - loss: 0.3639 - accuracy: 0.8167 - val_loss: 0.3726 - val_accuracy: 0.8072\n",
      "Epoch 32/100\n",
      "30162/30162 [==============================] - 1s 45us/step - loss: 0.3625 - accuracy: 0.8171 - val_loss: 0.3679 - val_accuracy: 0.8167\n",
      "Epoch 33/100\n",
      "30162/30162 [==============================] - 1s 48us/step - loss: 0.3618 - accuracy: 0.8190 - val_loss: 0.3626 - val_accuracy: 0.8169\n",
      "Epoch 34/100\n",
      "30162/30162 [==============================] - 1s 45us/step - loss: 0.3622 - accuracy: 0.8174 - val_loss: 0.3685 - val_accuracy: 0.8137\n",
      "Epoch 35/100\n",
      "30162/30162 [==============================] - 1s 46us/step - loss: 0.3613 - accuracy: 0.8185 - val_loss: 0.3713 - val_accuracy: 0.8124\n",
      "Epoch 36/100\n",
      "30162/30162 [==============================] - 1s 46us/step - loss: 0.3613 - accuracy: 0.8179 - val_loss: 0.3655 - val_accuracy: 0.8174\n",
      "Epoch 37/100\n",
      "30162/30162 [==============================] - 1s 48us/step - loss: 0.3618 - accuracy: 0.8181 - val_loss: 0.3616 - val_accuracy: 0.8195\n",
      "Epoch 38/100\n",
      "30162/30162 [==============================] - 1s 46us/step - loss: 0.3607 - accuracy: 0.8190 - val_loss: 0.3759 - val_accuracy: 0.8072\n",
      "Epoch 39/100\n",
      "30162/30162 [==============================] - 1s 45us/step - loss: 0.3623 - accuracy: 0.8176 - val_loss: 0.3645 - val_accuracy: 0.8149\n",
      "Epoch 40/100\n",
      "30162/30162 [==============================] - 1s 44us/step - loss: 0.3603 - accuracy: 0.8170 - val_loss: 0.3652 - val_accuracy: 0.8153\n",
      "Epoch 41/100\n",
      "30162/30162 [==============================] - 1s 46us/step - loss: 0.3609 - accuracy: 0.8183 - val_loss: 0.3628 - val_accuracy: 0.8161\n",
      "Epoch 42/100\n",
      "30162/30162 [==============================] - 1s 47us/step - loss: 0.3605 - accuracy: 0.8189 - val_loss: 0.3620 - val_accuracy: 0.8181\n",
      "Epoch 43/100\n",
      "30162/30162 [==============================] - 1s 44us/step - loss: 0.3639 - accuracy: 0.8179 - val_loss: 0.3637 - val_accuracy: 0.8183\n",
      "Epoch 44/100\n",
      "30162/30162 [==============================] - 1s 46us/step - loss: 0.3633 - accuracy: 0.8181 - val_loss: 0.3675 - val_accuracy: 0.8117\n",
      "Epoch 45/100\n",
      "30162/30162 [==============================] - 1s 48us/step - loss: 0.3613 - accuracy: 0.8162 - val_loss: 0.3676 - val_accuracy: 0.8120\n",
      "Epoch 46/100\n",
      "30162/30162 [==============================] - 1s 48us/step - loss: 0.3604 - accuracy: 0.8165 - val_loss: 0.3630 - val_accuracy: 0.8173\n",
      "Epoch 47/100\n",
      "30162/30162 [==============================] - 1s 45us/step - loss: 0.3619 - accuracy: 0.8174 - val_loss: 0.3639 - val_accuracy: 0.8180\n",
      "Epoch 48/100\n",
      "30162/30162 [==============================] - 1s 46us/step - loss: 0.3601 - accuracy: 0.8183 - val_loss: 0.3624 - val_accuracy: 0.8167\n",
      "Epoch 49/100\n",
      "30162/30162 [==============================] - 1s 46us/step - loss: 0.3589 - accuracy: 0.8176 - val_loss: 0.3594 - val_accuracy: 0.8213\n",
      "Epoch 50/100\n",
      "30162/30162 [==============================] - 1s 45us/step - loss: 0.3629 - accuracy: 0.8145 - val_loss: 0.3724 - val_accuracy: 0.8106\n",
      "Epoch 51/100\n",
      "30162/30162 [==============================] - 1s 45us/step - loss: 0.3602 - accuracy: 0.8182 - val_loss: 0.3704 - val_accuracy: 0.8113\n",
      "Epoch 52/100\n",
      "30162/30162 [==============================] - 2s 51us/step - loss: 0.3593 - accuracy: 0.8166 - val_loss: 0.3688 - val_accuracy: 0.8167\n",
      "Epoch 53/100\n",
      "30162/30162 [==============================] - 1s 44us/step - loss: 0.3592 - accuracy: 0.8184 - val_loss: 0.3644 - val_accuracy: 0.8179\n",
      "Epoch 54/100\n",
      "30162/30162 [==============================] - 1s 45us/step - loss: 0.3602 - accuracy: 0.8189 - val_loss: 0.3621 - val_accuracy: 0.8174\n",
      "Epoch 55/100\n",
      "30162/30162 [==============================] - 2s 53us/step - loss: 0.3596 - accuracy: 0.8183 - val_loss: 0.3680 - val_accuracy: 0.8135\n"
     ]
    },
    {
     "name": "stdout",
     "output_type": "stream",
     "text": [
      "Epoch 56/100\n",
      "30162/30162 [==============================] - 1s 45us/step - loss: 0.3589 - accuracy: 0.8181 - val_loss: 0.3656 - val_accuracy: 0.8171\n",
      "Epoch 57/100\n",
      "30162/30162 [==============================] - 1s 45us/step - loss: 0.3601 - accuracy: 0.8178 - val_loss: 0.3809 - val_accuracy: 0.8035\n",
      "Epoch 58/100\n",
      "30162/30162 [==============================] - 1s 44us/step - loss: 0.3589 - accuracy: 0.8184 - val_loss: 0.3627 - val_accuracy: 0.8174\n",
      "Epoch 59/100\n",
      "30162/30162 [==============================] - 1s 45us/step - loss: 0.3581 - accuracy: 0.8178 - val_loss: 0.3687 - val_accuracy: 0.8159\n",
      "Epoch 60/100\n",
      "30162/30162 [==============================] - 1s 44us/step - loss: 0.3580 - accuracy: 0.8185 - val_loss: 0.3633 - val_accuracy: 0.8173\n",
      "Epoch 61/100\n",
      "30162/30162 [==============================] - 1s 44us/step - loss: 0.3576 - accuracy: 0.8206 - val_loss: 0.3687 - val_accuracy: 0.8137\n",
      "Epoch 62/100\n",
      "30162/30162 [==============================] - 2s 58us/step - loss: 0.3577 - accuracy: 0.8198 - val_loss: 0.3647 - val_accuracy: 0.8146\n",
      "Epoch 63/100\n",
      "30162/30162 [==============================] - 2s 55us/step - loss: 0.3573 - accuracy: 0.8190 - val_loss: 0.3696 - val_accuracy: 0.8122\n",
      "Epoch 64/100\n",
      "30162/30162 [==============================] - 1s 45us/step - loss: 0.3580 - accuracy: 0.8173 - val_loss: 0.3652 - val_accuracy: 0.8139\n",
      "Epoch 65/100\n",
      "30162/30162 [==============================] - 1s 46us/step - loss: 0.3572 - accuracy: 0.8189 - val_loss: 0.3730 - val_accuracy: 0.8075\n",
      "Epoch 66/100\n",
      "30162/30162 [==============================] - 1s 45us/step - loss: 0.3579 - accuracy: 0.8187 - val_loss: 0.3638 - val_accuracy: 0.8175\n",
      "Epoch 67/100\n",
      "30162/30162 [==============================] - 1s 43us/step - loss: 0.3570 - accuracy: 0.8187 - val_loss: 0.3725 - val_accuracy: 0.8163\n",
      "Epoch 68/100\n",
      "30162/30162 [==============================] - 1s 45us/step - loss: 0.3562 - accuracy: 0.8190 - val_loss: 0.3737 - val_accuracy: 0.8161\n",
      "Epoch 69/100\n",
      "30162/30162 [==============================] - 1s 48us/step - loss: 0.3572 - accuracy: 0.8201 - val_loss: 0.3632 - val_accuracy: 0.8173\n",
      "Epoch 70/100\n",
      "30162/30162 [==============================] - 1s 45us/step - loss: 0.3562 - accuracy: 0.8208 - val_loss: 0.3626 - val_accuracy: 0.8169\n",
      "Epoch 71/100\n",
      "30162/30162 [==============================] - 1s 45us/step - loss: 0.3563 - accuracy: 0.8199 - val_loss: 0.3642 - val_accuracy: 0.8150\n",
      "Epoch 72/100\n",
      "30162/30162 [==============================] - 1s 45us/step - loss: 0.3566 - accuracy: 0.8215 - val_loss: 0.3678 - val_accuracy: 0.8110\n",
      "Epoch 73/100\n",
      "30162/30162 [==============================] - 1s 45us/step - loss: 0.3593 - accuracy: 0.8151 - val_loss: 0.3627 - val_accuracy: 0.8175\n",
      "Epoch 74/100\n",
      "30162/30162 [==============================] - 1s 45us/step - loss: 0.3597 - accuracy: 0.8177 - val_loss: 0.3641 - val_accuracy: 0.8171\n",
      "Epoch 75/100\n",
      "30162/30162 [==============================] - 1s 44us/step - loss: 0.3582 - accuracy: 0.8174 - val_loss: 0.3711 - val_accuracy: 0.8142\n",
      "Epoch 76/100\n",
      "30162/30162 [==============================] - 1s 43us/step - loss: 0.3562 - accuracy: 0.8189 - val_loss: 0.3642 - val_accuracy: 0.8153\n",
      "Epoch 77/100\n",
      "30162/30162 [==============================] - 1s 44us/step - loss: 0.3563 - accuracy: 0.8188 - val_loss: 0.3630 - val_accuracy: 0.8179\n",
      "Epoch 78/100\n",
      "30162/30162 [==============================] - 1s 44us/step - loss: 0.3566 - accuracy: 0.8177 - val_loss: 0.3653 - val_accuracy: 0.8167\n",
      "Epoch 79/100\n",
      "30162/30162 [==============================] - 1s 45us/step - loss: 0.3556 - accuracy: 0.8206 - val_loss: 0.3631 - val_accuracy: 0.8163\n",
      "Epoch 80/100\n",
      "30162/30162 [==============================] - 1s 46us/step - loss: 0.3548 - accuracy: 0.8189 - val_loss: 0.3706 - val_accuracy: 0.8090\n",
      "Epoch 81/100\n",
      "30162/30162 [==============================] - 1s 44us/step - loss: 0.3557 - accuracy: 0.8188 - val_loss: 0.3634 - val_accuracy: 0.8165\n",
      "Epoch 82/100\n",
      "30162/30162 [==============================] - 1s 45us/step - loss: 0.3551 - accuracy: 0.8193 - val_loss: 0.3681 - val_accuracy: 0.8116\n",
      "Epoch 83/100\n",
      "30162/30162 [==============================] - 1s 44us/step - loss: 0.3549 - accuracy: 0.8200 - val_loss: 0.3625 - val_accuracy: 0.8153\n",
      "Epoch 84/100\n",
      "30162/30162 [==============================] - 1s 45us/step - loss: 0.3548 - accuracy: 0.8205 - val_loss: 0.3670 - val_accuracy: 0.7959\n",
      "Epoch 85/100\n",
      "30162/30162 [==============================] - 1s 46us/step - loss: 0.3543 - accuracy: 0.8202 - val_loss: 0.3635 - val_accuracy: 0.8167\n",
      "Epoch 86/100\n",
      "30162/30162 [==============================] - 1s 46us/step - loss: 0.3546 - accuracy: 0.8190 - val_loss: 0.3637 - val_accuracy: 0.8174\n",
      "Epoch 87/100\n",
      "30162/30162 [==============================] - 1s 44us/step - loss: 0.3605 - accuracy: 0.8171 - val_loss: 0.3638 - val_accuracy: 0.8175\n",
      "Epoch 88/100\n",
      "30162/30162 [==============================] - 1s 46us/step - loss: 0.3557 - accuracy: 0.8202 - val_loss: 0.3642 - val_accuracy: 0.8180\n",
      "Epoch 89/100\n",
      "30162/30162 [==============================] - 1s 46us/step - loss: 0.3551 - accuracy: 0.8213 - val_loss: 0.3629 - val_accuracy: 0.8179\n",
      "Epoch 90/100\n",
      "30162/30162 [==============================] - 1s 46us/step - loss: 0.3548 - accuracy: 0.8199 - val_loss: 0.3659 - val_accuracy: 0.8159\n",
      "Epoch 91/100\n",
      "30162/30162 [==============================] - 1s 45us/step - loss: 0.3544 - accuracy: 0.8198 - val_loss: 0.3633 - val_accuracy: 0.8159\n",
      "Epoch 92/100\n",
      "30162/30162 [==============================] - 1s 45us/step - loss: 0.3538 - accuracy: 0.8193 - val_loss: 0.3630 - val_accuracy: 0.8161\n",
      "Epoch 93/100\n",
      "30162/30162 [==============================] - 1s 44us/step - loss: 0.3536 - accuracy: 0.8210 - val_loss: 0.3638 - val_accuracy: 0.8165\n",
      "Epoch 94/100\n",
      "30162/30162 [==============================] - 1s 45us/step - loss: 0.3556 - accuracy: 0.8187 - val_loss: 0.3672 - val_accuracy: 0.8139\n",
      "Epoch 95/100\n",
      "30162/30162 [==============================] - 1s 43us/step - loss: 0.3547 - accuracy: 0.8182 - val_loss: 0.3678 - val_accuracy: 0.8120\n",
      "Epoch 96/100\n",
      "30162/30162 [==============================] - 1s 45us/step - loss: 0.3554 - accuracy: 0.8200 - val_loss: 0.3649 - val_accuracy: 0.8163\n",
      "Epoch 97/100\n",
      "30162/30162 [==============================] - 1s 45us/step - loss: 0.3593 - accuracy: 0.8166 - val_loss: 0.3708 - val_accuracy: 0.8122\n",
      "Epoch 98/100\n",
      "30162/30162 [==============================] - 1s 44us/step - loss: 0.3597 - accuracy: 0.8166 - val_loss: 0.3658 - val_accuracy: 0.8182\n",
      "Epoch 99/100\n",
      "30162/30162 [==============================] - 1s 44us/step - loss: 0.3568 - accuracy: 0.8170 - val_loss: 0.3676 - val_accuracy: 0.8161\n",
      "Epoch 100/100\n",
      "30162/30162 [==============================] - 1s 45us/step - loss: 0.3562 - accuracy: 0.8169 - val_loss: 0.3644 - val_accuracy: 0.8149\n"
     ]
    }
   ],
   "source": [
    "# history = model.fit(X_train, y_train, epochs=30, validation_data=(X_valid, y_valid))\n",
    "history = model.fit(X_train, y_train, validation_data= (X_test, y_test), batch_size=32,epochs=100)"
   ]
  },
  {
   "cell_type": "code",
   "execution_count": 8,
   "metadata": {},
   "outputs": [
    {
     "data": {
      "image/png": "[encoded data removed]",
      "text/plain": [
       "<Figure size 576x360 with 1 Axes>"
      ]
     },
     "metadata": {
      "needs_background": "light"
     },
     "output_type": "display_data"
    }
   ],
   "source": [
    "import pandas as pd\n",
    "\n",
    "pd.DataFrame(history.history).plot(figsize=(8, 5))\n",
    "plt.grid(True)\n",
    "plt.gca().set_ylim(0, 1)\n",
    "plt.show()"
   ]
  },
  {
   "cell_type": "code",
   "execution_count": 9,
   "metadata": {},
   "outputs": [
    {
     "name": "stdout",
     "output_type": "stream",
     "text": [
      "15060/15060 [==============================] - 0s 18us/step\n"
     ]
    },
    {
     "data": {
      "text/plain": [
       "[0.36438112148883967, 0.8148738145828247]"
      ]
     },
     "execution_count": 9,
     "metadata": {},
     "output_type": "execute_result"
    }
   ],
   "source": [
    "model.evaluate(X_test,y_test)"
   ]
  },
  {
   "cell_type": "code",
   "execution_count": 10,
   "metadata": {},
   "outputs": [
    {
     "data": {
      "text/plain": [
       "0.8148738379814077"
      ]
     },
     "execution_count": 10,
     "metadata": {},
     "output_type": "execute_result"
    }
   ],
   "source": [
    "from sklearn import  metrics\n",
    "metrics.accuracy_score(y_true= y_test, y_pred= model.predict_classes(X_test) )"
   ]
  },
  {
   "cell_type": "markdown",
   "metadata": {},
   "source": [
    "# Zad\n",
    "\n",
    "Porównaj powyższy wynik z nauką na danych znormalizowanych z fróżnymi funkcjami aktywacji:\n",
    "* sigmoid\n",
    "* tanh\n",
    "* relu\n",
    "* elu\n",
    "* LeakyReLU"
   ]
  },
  {
   "cell_type": "code",
   "execution_count": null,
   "metadata": {},
   "outputs": [],
   "source": [
    "from sklearn.preprocessing import StandardScaler\n",
    "\n"
   ]
  },
  {
   "cell_type": "markdown",
   "metadata": {},
   "source": [
    "# Zad. \n",
    "Stwórz wykres porównujący metody. "
   ]
  },
  {
   "cell_type": "code",
   "execution_count": null,
   "metadata": {},
   "outputs": [],
   "source": []
  },
  {
   "cell_type": "code",
   "execution_count": null,
   "metadata": {},
   "outputs": [],
   "source": []
  }
 ],
 "metadata": {
  "kernelspec": {
   "display_name": "Python 3",
   "language": "python",
   "name": "python3"
  },
  "language_info": {
   "codemirror_mode": {
    "name": "ipython",
    "version": 3
   },
   "file_extension": ".py",
   "mimetype": "text/x-python",
   "name": "python",
   "nbconvert_exporter": "python",
   "pygments_lexer": "ipython3",
   "version": "3.7.3"
  }
 },
 "nbformat": 4,
 "nbformat_minor": 4
}
