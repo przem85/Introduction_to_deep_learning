{
 "cells": [
  {
   "cell_type": "code",
   "execution_count": 3,
   "metadata": {},
   "outputs": [
    {
     "name": "stdout",
     "output_type": "stream",
     "text": [
      "2.0.0-rc1\n",
      "2.2.4-tf\n"
     ]
    }
   ],
   "source": [
    "import tensorflow as tf\n",
    "from tensorflow import keras\n",
    "print(tf.__version__)\n",
    "\n",
    "print(keras.__version__)"
   ]
  },
  {
   "cell_type": "code",
   "execution_count": 4,
   "metadata": {},
   "outputs": [],
   "source": [
    "import numpy as np\n",
    "import pandas as pd\n",
    "import matplotlib.pyplot as plt\n",
    "import os"
   ]
  },
  {
   "cell_type": "code",
   "execution_count": 5,
   "metadata": {},
   "outputs": [
    {
     "name": "stderr",
     "output_type": "stream",
     "text": [
      "C:\\ProgramData\\Anaconda3\\lib\\site-packages\\ipykernel_launcher.py:6: ParserWarning: Falling back to the 'python' engine because the 'c' engine does not support regex separators (separators > 1 char and different from '\\s+' are interpreted as regex); you can avoid this warning by specifying engine='python'.\n",
      "  \n",
      "C:\\ProgramData\\Anaconda3\\lib\\site-packages\\ipykernel_launcher.py:7: ParserWarning: Falling back to the 'python' engine because the 'c' engine does not support regex separators (separators > 1 char and different from '\\s+' are interpreted as regex); you can avoid this warning by specifying engine='python'.\n",
      "  import sys\n"
     ]
    },
    {
     "data": {
      "text/html": [
       "<div>\n",
       "<style scoped>\n",
       "    .dataframe tbody tr th:only-of-type {\n",
       "        vertical-align: middle;\n",
       "    }\n",
       "\n",
       "    .dataframe tbody tr th {\n",
       "        vertical-align: top;\n",
       "    }\n",
       "\n",
       "    .dataframe thead th {\n",
       "        text-align: right;\n",
       "    }\n",
       "</style>\n",
       "<table border=\"1\" class=\"dataframe\">\n",
       "  <thead>\n",
       "    <tr style=\"text-align: right;\">\n",
       "      <th></th>\n",
       "      <th>age</th>\n",
       "      <th>workclass</th>\n",
       "      <th>fnlwgt</th>\n",
       "      <th>education</th>\n",
       "      <th>education_num</th>\n",
       "      <th>marital_status</th>\n",
       "      <th>occupation</th>\n",
       "      <th>relationship</th>\n",
       "      <th>race</th>\n",
       "      <th>sex</th>\n",
       "      <th>capital_gain</th>\n",
       "      <th>capital_loss</th>\n",
       "      <th>hours_per_week</th>\n",
       "      <th>native_country</th>\n",
       "      <th>wage_class</th>\n",
       "    </tr>\n",
       "  </thead>\n",
       "  <tbody>\n",
       "    <tr>\n",
       "      <th>0</th>\n",
       "      <td>39</td>\n",
       "      <td>State-gov</td>\n",
       "      <td>77516</td>\n",
       "      <td>Bachelors</td>\n",
       "      <td>13</td>\n",
       "      <td>Never-married</td>\n",
       "      <td>Adm-clerical</td>\n",
       "      <td>Not-in-family</td>\n",
       "      <td>White</td>\n",
       "      <td>Male</td>\n",
       "      <td>2174</td>\n",
       "      <td>0</td>\n",
       "      <td>40</td>\n",
       "      <td>United-States</td>\n",
       "      <td>&lt;=50K</td>\n",
       "    </tr>\n",
       "    <tr>\n",
       "      <th>1</th>\n",
       "      <td>50</td>\n",
       "      <td>Self-emp-not-inc</td>\n",
       "      <td>83311</td>\n",
       "      <td>Bachelors</td>\n",
       "      <td>13</td>\n",
       "      <td>Married-civ-spouse</td>\n",
       "      <td>Exec-managerial</td>\n",
       "      <td>Husband</td>\n",
       "      <td>White</td>\n",
       "      <td>Male</td>\n",
       "      <td>0</td>\n",
       "      <td>0</td>\n",
       "      <td>13</td>\n",
       "      <td>United-States</td>\n",
       "      <td>&lt;=50K</td>\n",
       "    </tr>\n",
       "    <tr>\n",
       "      <th>2</th>\n",
       "      <td>38</td>\n",
       "      <td>Private</td>\n",
       "      <td>215646</td>\n",
       "      <td>HS-grad</td>\n",
       "      <td>9</td>\n",
       "      <td>Divorced</td>\n",
       "      <td>Handlers-cleaners</td>\n",
       "      <td>Not-in-family</td>\n",
       "      <td>White</td>\n",
       "      <td>Male</td>\n",
       "      <td>0</td>\n",
       "      <td>0</td>\n",
       "      <td>40</td>\n",
       "      <td>United-States</td>\n",
       "      <td>&lt;=50K</td>\n",
       "    </tr>\n",
       "    <tr>\n",
       "      <th>3</th>\n",
       "      <td>53</td>\n",
       "      <td>Private</td>\n",
       "      <td>234721</td>\n",
       "      <td>11th</td>\n",
       "      <td>7</td>\n",
       "      <td>Married-civ-spouse</td>\n",
       "      <td>Handlers-cleaners</td>\n",
       "      <td>Husband</td>\n",
       "      <td>Black</td>\n",
       "      <td>Male</td>\n",
       "      <td>0</td>\n",
       "      <td>0</td>\n",
       "      <td>40</td>\n",
       "      <td>United-States</td>\n",
       "      <td>&lt;=50K</td>\n",
       "    </tr>\n",
       "    <tr>\n",
       "      <th>4</th>\n",
       "      <td>28</td>\n",
       "      <td>Private</td>\n",
       "      <td>338409</td>\n",
       "      <td>Bachelors</td>\n",
       "      <td>13</td>\n",
       "      <td>Married-civ-spouse</td>\n",
       "      <td>Prof-specialty</td>\n",
       "      <td>Wife</td>\n",
       "      <td>Black</td>\n",
       "      <td>Female</td>\n",
       "      <td>0</td>\n",
       "      <td>0</td>\n",
       "      <td>40</td>\n",
       "      <td>Cuba</td>\n",
       "      <td>&lt;=50K</td>\n",
       "    </tr>\n",
       "  </tbody>\n",
       "</table>\n",
       "</div>"
      ],
      "text/plain": [
       "   age         workclass  fnlwgt  education  education_num  \\\n",
       "0   39         State-gov   77516  Bachelors             13   \n",
       "1   50  Self-emp-not-inc   83311  Bachelors             13   \n",
       "2   38           Private  215646    HS-grad              9   \n",
       "3   53           Private  234721       11th              7   \n",
       "4   28           Private  338409  Bachelors             13   \n",
       "\n",
       "       marital_status         occupation   relationship   race     sex  \\\n",
       "0       Never-married       Adm-clerical  Not-in-family  White    Male   \n",
       "1  Married-civ-spouse    Exec-managerial        Husband  White    Male   \n",
       "2            Divorced  Handlers-cleaners  Not-in-family  White    Male   \n",
       "3  Married-civ-spouse  Handlers-cleaners        Husband  Black    Male   \n",
       "4  Married-civ-spouse     Prof-specialty           Wife  Black  Female   \n",
       "\n",
       "   capital_gain  capital_loss  hours_per_week native_country wage_class  \n",
       "0          2174             0              40  United-States      <=50K  \n",
       "1             0             0              13  United-States      <=50K  \n",
       "2             0             0              40  United-States      <=50K  \n",
       "3             0             0              40  United-States      <=50K  \n",
       "4             0             0              40           Cuba      <=50K  "
      ]
     },
     "execution_count": 5,
     "metadata": {},
     "output_type": "execute_result"
    }
   ],
   "source": [
    "# Wczytaj dane treningowe i testowe\n",
    "import numpy as np\n",
    "import matplotlib.pyplot as plt\n",
    "import pandas as pd\n",
    "\n",
    "train_set = pd.read_csv('Dane/adult/adult.data', sep=\", \",header = None)\n",
    "test_set = pd.read_csv('Dane/adult/adult.test', sep=\", \",skiprows = 1, header = None) # Make sure to skip a row for the test set\n",
    "\n",
    "col_labels = ['age', 'workclass', 'fnlwgt', 'education', 'education_num', 'marital_status', 'occupation', \n",
    "              'relationship', 'race', 'sex', 'capital_gain', 'capital_loss', 'hours_per_week', 'native_country',\n",
    "             'wage_class']\n",
    "train_set.columns = col_labels\n",
    "test_set.columns = col_labels\n",
    "\n",
    "train = train_set.replace('?', np.nan).dropna()\n",
    "test = test_set.replace('?', np.nan).dropna()\n",
    "\n",
    "train_set.head()\n"
   ]
  },
  {
   "cell_type": "markdown",
   "metadata": {},
   "source": [
    "# Zad.\n",
    "Zróbmy szybki preprocesing"
   ]
  },
  {
   "cell_type": "code",
   "execution_count": 6,
   "metadata": {},
   "outputs": [],
   "source": [
    "dataset = pd.concat([train,test])\n",
    "\n",
    "dataset['wage_class'] = dataset.wage_class.replace({'<=50K.': 0,'<=50K':0, '>50K.':1, '>50K':1})\n",
    "\n",
    "dataset.drop([\"fnlwgt\"],axis=1,inplace=True)\n",
    "\n",
    "dataset.drop([\"education\"],axis=1,inplace=True)\n",
    "\n",
    "x = dataset.groupby('native_country')[\"wage_class\"].mean()\n",
    "\n",
    "d = dict(pd.cut(x[x.index!=\" United-States\"],5,labels=range(5)))\n",
    "\n",
    "dataset['native_country'] = dataset['native_country'].replace(d)\n",
    "\n",
    "dataset = pd.get_dummies(dataset,drop_first=True)\n",
    "\n",
    "train = dataset.iloc[:train.shape[0]]\n",
    "test = dataset.iloc[train.shape[0]:]\n",
    "\n",
    "X_train = train.drop(\"wage_class\",axis=1)\n",
    "y_train = train.wage_class\n",
    "\n",
    "X_test = test.drop(\"wage_class\",axis=1)\n",
    "y_test = test.wage_class\n"
   ]
  },
  {
   "cell_type": "markdown",
   "metadata": {},
   "source": [
    "# TensorBoard"
   ]
  },
  {
   "cell_type": "code",
   "execution_count": 7,
   "metadata": {},
   "outputs": [],
   "source": [
    "root_logdir = os.path.join(os.curdir, \"my_logs\")"
   ]
  },
  {
   "cell_type": "code",
   "execution_count": 8,
   "metadata": {},
   "outputs": [
    {
     "data": {
      "text/plain": [
       "'.\\\\my_logs\\\\run_2020_05_11-15_58_05'"
      ]
     },
     "execution_count": 8,
     "metadata": {},
     "output_type": "execute_result"
    }
   ],
   "source": [
    "def get_run_logdir():\n",
    "    import time\n",
    "    run_id = time.strftime(\"run_%Y_%m_%d-%H_%M_%S\")\n",
    "    return os.path.join(root_logdir, run_id)\n",
    "\n",
    "run_logdir = get_run_logdir()\n",
    "run_logdir"
   ]
  },
  {
   "cell_type": "code",
   "execution_count": 9,
   "metadata": {},
   "outputs": [],
   "source": [
    "keras.backend.clear_session()\n",
    "np.random.seed(42)\n",
    "tf.random.set_seed(42)"
   ]
  },
  {
   "cell_type": "code",
   "execution_count": null,
   "metadata": {},
   "outputs": [],
   "source": []
  },
  {
   "cell_type": "code",
   "execution_count": 10,
   "metadata": {},
   "outputs": [
    {
     "name": "stdout",
     "output_type": "stream",
     "text": [
      "Model: \"sequential_1\"\n",
      "_________________________________________________________________\n",
      "Layer (type)                 Output Shape              Param #   \n",
      "=================================================================\n",
      "dense_1 (Dense)              (None, 100)               4200      \n",
      "_________________________________________________________________\n",
      "dense_2 (Dense)              (None, 50)                5050      \n",
      "_________________________________________________________________\n",
      "dense_3 (Dense)              (None, 10)                510       \n",
      "_________________________________________________________________\n",
      "dense_4 (Dense)              (None, 1)                 11        \n",
      "=================================================================\n",
      "Total params: 9,771\n",
      "Trainable params: 9,771\n",
      "Non-trainable params: 0\n",
      "_________________________________________________________________\n"
     ]
    }
   ],
   "source": [
    "from keras.models import Sequential\n",
    "from keras.layers import Dense\n",
    "\n",
    "from keras.callbacks import History\n",
    "\n",
    "history = History()\n",
    "model = Sequential()\n",
    "model.add(Dense(100,activation=\"sigmoid\",input_shape=(X_train.shape[1],)))\n",
    "model.add(Dense(50,activation=\"sigmoid\"))\n",
    "model.add(Dense(10,activation=\"sigmoid\"))\n",
    "model.add(Dense(1,activation=\"sigmoid\"))\n",
    "model.summary()"
   ]
  },
  {
   "cell_type": "code",
   "execution_count": 11,
   "metadata": {},
   "outputs": [
    {
     "name": "stdout",
     "output_type": "stream",
     "text": [
      "WARNING:tensorflow:From C:\\ProgramData\\Anaconda3\\lib\\site-packages\\tensorflow_core\\python\\ops\\nn_impl.py:183: where (from tensorflow.python.ops.array_ops) is deprecated and will be removed in a future version.\n",
      "Instructions for updating:\n",
      "Use tf.where in 2.0, which has the same broadcast rule as np.where\n"
     ]
    }
   ],
   "source": [
    "model.compile(loss=\"binary_crossentropy\",optimizer=\"Adam\", metrics=[\"accuracy\"])"
   ]
  },
  {
   "cell_type": "code",
   "execution_count": 12,
   "metadata": {},
   "outputs": [
    {
     "name": "stdout",
     "output_type": "stream",
     "text": [
      "Train on 30162 samples, validate on 15060 samples\n",
      "Epoch 1/30\n",
      "30162/30162 [==============================] - 2s 53us/step - loss: 0.5442 - accuracy: 0.7465 - val_loss: 0.4416 - val_accuracy: 0.7760\n",
      "Epoch 2/30\n",
      "30162/30162 [==============================] - 1s 47us/step - loss: 0.4020 - accuracy: 0.7991 - val_loss: 0.3908 - val_accuracy: 0.7980\n",
      "Epoch 3/30\n",
      "30162/30162 [==============================] - 1s 47us/step - loss: 0.3817 - accuracy: 0.8095 - val_loss: 0.3746 - val_accuracy: 0.8140\n",
      "Epoch 4/30\n",
      "30162/30162 [==============================] - 1s 49us/step - loss: 0.3769 - accuracy: 0.8111 - val_loss: 0.3720 - val_accuracy: 0.8145\n",
      "Epoch 5/30\n",
      "30162/30162 [==============================] - 1s 49us/step - loss: 0.3756 - accuracy: 0.8098 - val_loss: 0.3862 - val_accuracy: 0.8026\n",
      "Epoch 6/30\n",
      "30162/30162 [==============================] - 2s 51us/step - loss: 0.3732 - accuracy: 0.8111 - val_loss: 0.3682 - val_accuracy: 0.8116\n",
      "Epoch 7/30\n",
      "30162/30162 [==============================] - 1s 46us/step - loss: 0.3703 - accuracy: 0.8131 - val_loss: 0.3724 - val_accuracy: 0.8125\n",
      "Epoch 8/30\n",
      "30162/30162 [==============================] - 1s 49us/step - loss: 0.3704 - accuracy: 0.8128 - val_loss: 0.3651 - val_accuracy: 0.8157\n",
      "Epoch 9/30\n",
      "30162/30162 [==============================] - 1s 47us/step - loss: 0.3694 - accuracy: 0.8124 - val_loss: 0.3747 - val_accuracy: 0.8139\n",
      "Epoch 10/30\n",
      "30162/30162 [==============================] - 1s 47us/step - loss: 0.3684 - accuracy: 0.8155 - val_loss: 0.3652 - val_accuracy: 0.8173\n",
      "Epoch 11/30\n",
      "30162/30162 [==============================] - 1s 47us/step - loss: 0.3667 - accuracy: 0.8136 - val_loss: 0.3650 - val_accuracy: 0.8156\n",
      "Epoch 12/30\n",
      "30162/30162 [==============================] - 1s 45us/step - loss: 0.3663 - accuracy: 0.8154 - val_loss: 0.3685 - val_accuracy: 0.8096\n",
      "Epoch 13/30\n",
      "30162/30162 [==============================] - 1s 48us/step - loss: 0.3677 - accuracy: 0.8155 - val_loss: 0.3681 - val_accuracy: 0.8163\n",
      "Epoch 14/30\n",
      "30162/30162 [==============================] - 2s 54us/step - loss: 0.3660 - accuracy: 0.8153 - val_loss: 0.3627 - val_accuracy: 0.8182\n",
      "Epoch 15/30\n",
      "30162/30162 [==============================] - 1s 48us/step - loss: 0.3649 - accuracy: 0.8149 - val_loss: 0.3630 - val_accuracy: 0.8167\n",
      "Epoch 16/30\n",
      "30162/30162 [==============================] - 1s 45us/step - loss: 0.3643 - accuracy: 0.8163 - val_loss: 0.3625 - val_accuracy: 0.8186\n",
      "Epoch 17/30\n",
      "30162/30162 [==============================] - 1s 49us/step - loss: 0.3644 - accuracy: 0.8166 - val_loss: 0.3623 - val_accuracy: 0.8179\n",
      "Epoch 18/30\n",
      "30162/30162 [==============================] - 1s 49us/step - loss: 0.3634 - accuracy: 0.8166 - val_loss: 0.3660 - val_accuracy: 0.8175\n",
      "Epoch 19/30\n",
      "30162/30162 [==============================] - 1s 49us/step - loss: 0.3660 - accuracy: 0.8162 - val_loss: 0.3686 - val_accuracy: 0.8126\n",
      "Epoch 20/30\n",
      "30162/30162 [==============================] - 2s 52us/step - loss: 0.3672 - accuracy: 0.8156 - val_loss: 0.3815 - val_accuracy: 0.8037\n",
      "Epoch 21/30\n",
      "30162/30162 [==============================] - 1s 49us/step - loss: 0.3647 - accuracy: 0.8174 - val_loss: 0.3648 - val_accuracy: 0.8183\n",
      "Epoch 22/30\n",
      "30162/30162 [==============================] - 1s 48us/step - loss: 0.3629 - accuracy: 0.8170 - val_loss: 0.3662 - val_accuracy: 0.7963\n",
      "Epoch 23/30\n",
      "30162/30162 [==============================] - 1s 47us/step - loss: 0.3631 - accuracy: 0.8177 - val_loss: 0.3618 - val_accuracy: 0.8192\n",
      "Epoch 24/30\n",
      "30162/30162 [==============================] - 1s 46us/step - loss: 0.3626 - accuracy: 0.8168 - val_loss: 0.3643 - val_accuracy: 0.8181\n",
      "Epoch 25/30\n",
      "30162/30162 [==============================] - 1s 46us/step - loss: 0.3628 - accuracy: 0.8148 - val_loss: 0.3654 - val_accuracy: 0.8166\n",
      "Epoch 26/30\n",
      "30162/30162 [==============================] - 1s 46us/step - loss: 0.3617 - accuracy: 0.8165 - val_loss: 0.3626 - val_accuracy: 0.8141\n",
      "Epoch 27/30\n",
      "30162/30162 [==============================] - 1s 47us/step - loss: 0.3633 - accuracy: 0.8157 - val_loss: 0.3626 - val_accuracy: 0.8169\n",
      "Epoch 28/30\n",
      "30162/30162 [==============================] - 1s 49us/step - loss: 0.3633 - accuracy: 0.8167 - val_loss: 0.3674 - val_accuracy: 0.8192\n",
      "Epoch 29/30\n",
      "30162/30162 [==============================] - 1s 50us/step - loss: 0.3635 - accuracy: 0.8168 - val_loss: 0.3634 - val_accuracy: 0.8141\n",
      "Epoch 30/30\n",
      "30162/30162 [==============================] - 1s 47us/step - loss: 0.3628 - accuracy: 0.8173 - val_loss: 0.3616 - val_accuracy: 0.8182\n"
     ]
    }
   ],
   "source": [
    "from keras.callbacks import TensorBoard \n",
    "\n",
    "tensorboard_cb = TensorBoard(run_logdir)\n",
    "history = model.fit(X_train, y_train, epochs=30, validation_data=(X_test, y_test), callbacks=[tensorboard_cb])"
   ]
  },
  {
   "cell_type": "markdown",
   "metadata": {},
   "source": [
    "o start the TensorBoard server, one option is to open a terminal, if needed activate the virtualenv where you installed TensorBoard, go to this notebook's directory, then type:\n",
    "\n",
    "```python\n",
    "$ tensorboard --logdir=./my_logs --port=6006\n",
    "```\n",
    "\n",
    "You can then open your web browser to localhost:6006 and use TensorBoard. Once you are done, press Ctrl-C in the terminal window, this will shutdown the TensorBoard server.\n",
    "\n",
    "Alternatively, you can load TensorBoard's Jupyter extension and run it like this:\n",
    "\n",
    "```python\n",
    "%load_ext tensorboard\n",
    "%tensorboard --logdir=./my_logs --port=6006\n",
    "```"
   ]
  },
  {
   "cell_type": "markdown",
   "metadata": {},
   "source": [
    "Gdyby nie działał tensorboard\n",
    "\n",
    "https://github.com/pytorch/pytorch/issues/22676\n",
    "```python\n",
    "pip uninstall tb-nightly tensorboardX tensorboard\n",
    "pip install tensorboard\n",
    "```"
   ]
  },
  {
   "cell_type": "markdown",
   "metadata": {},
   "source": [
    "# Zad\n",
    "\n",
    "* Naucz dowolny model na zbiorze MNIST.\n",
    "* Wyświetl krzywe uczenia w tensorboard"
   ]
  },
  {
   "cell_type": "code",
   "execution_count": null,
   "metadata": {},
   "outputs": [],
   "source": []
  }
 ],
 "metadata": {
  "kernelspec": {
   "display_name": "Python 3",
   "language": "python",
   "name": "python3"
  },
  "language_info": {
   "codemirror_mode": {
    "name": "ipython",
    "version": 3
   },
   "file_extension": ".py",
   "mimetype": "text/x-python",
   "name": "python",
   "nbconvert_exporter": "python",
   "pygments_lexer": "ipython3",
   "version": "3.7.3"
  }
 },
 "nbformat": 4,
 "nbformat_minor": 4
}
